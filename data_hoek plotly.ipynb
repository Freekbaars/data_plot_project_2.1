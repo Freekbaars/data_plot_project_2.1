{
 "cells": [
  {
   "cell_type": "code",
   "execution_count": 16,
   "metadata": {},
   "outputs": [],
   "source": [
    "import pandas as pd\n",
    "import numpy as np\n",
    "import plotly as px\n",
    "import plotly.graph_objects as go\n",
    "import plotly.express as px\n",
    "from plotly.subplots import make_subplots\n",
    "\t"
   ]
  },
  {
   "cell_type": "markdown",
   "metadata": {},
   "source": [
    "# laad csv in"
   ]
  },
  {
   "cell_type": "code",
   "execution_count": 17,
   "metadata": {},
   "outputs": [],
   "source": [
    "csv_bestand_vin_1= 'sensor_data_test_vin_1_1.csv'\n",
    "csv_bestand_vin_2= 'sensor_data_test_vin_2_1.csv'\n",
    "csv_bestand_vin_3= 'sensor_data_test_vin_3_1.csv'\n",
    "\n",
    "csv_bestand_vin_1_2= 'sensor_data_test_vin_1_2.csv'\n",
    "csv_bestand_vin_2_2= 'sensor_data_test_vin_2_2.csv'\n",
    "csv_bestand_vin_3_2= 'sensor_data_test_vin_3_2.csv'\n",
    "\n",
    "csv_bestand_vin_3_3= 'sensor_data_test_vin_3_3_snelheid_300.csv'\n",
    "csv_bestand_vin_3_4= 'sensor_data_test_vin_3_4_snelheid_300.csv'"
   ]
  },
  {
   "cell_type": "code",
   "execution_count": 18,
   "metadata": {},
   "outputs": [],
   "source": [
    "#vin 1\n",
    "df_vin_1 = pd.read_csv(csv_bestand_vin_1)\n",
    "df_vin_1_2 = pd.read_csv(csv_bestand_vin_1_2)\n",
    "\n",
    "#vin 2\n",
    "df_vin_2 = pd.read_csv(csv_bestand_vin_2)\n",
    "df_vin_2_2 = pd.read_csv(csv_bestand_vin_2_2)\n",
    "\n",
    "#vin 3\n",
    "df_vin_3 = pd.read_csv(csv_bestand_vin_3)\n",
    "df_vin_3_2 = pd.read_csv(csv_bestand_vin_3_2)\n",
    "\n",
    "#vin 3 snelheid 300\n",
    "df_vin_3_3 = pd.read_csv(csv_bestand_vin_3_3)\n",
    "df_vin_3_4 = pd.read_csv(csv_bestand_vin_3_4)"
   ]
  },
  {
   "cell_type": "markdown",
   "metadata": {},
   "source": [
    "# bereken gemidelde hoeken"
   ]
  },
  {
   "cell_type": "code",
   "execution_count": 19,
   "metadata": {},
   "outputs": [],
   "source": [
    "gemidelde_roll_1= round(df_vin_1['Pitch (graden)'].mean(),2)\n",
    "gemidelde_pitch_1= round(df_vin_1['Roll (graden)'].mean(),2)\n",
    "gemidelde_roll_1_2= round(df_vin_1_2['Pitch (graden)'].mean(),2)\n",
    "gemidelde_pitch_1_2= round(df_vin_1_2['Roll (graden)'].mean(),2)\n",
    "\n",
    "\n",
    "gemidelde_roll_2= round(df_vin_2['Pitch (graden)'].mean(),2)\n",
    "gemidelde_pitch_2= round(df_vin_2['Roll (graden)'].mean(),2)\n",
    "gemidelde_roll_2_2= round(df_vin_2_2['Pitch (graden)'].mean(),2)\n",
    "gemidelde_pitch_2_2= round(df_vin_2_2['Roll (graden)'].mean(),2)\n",
    "\n",
    "\n",
    "\n",
    "gemidelde_roll_3= round(df_vin_3['Pitch (graden)'].mean(),2)\n",
    "gemidelde_pitch_3= round(df_vin_3['Roll (graden)'].mean(),2)\n",
    "gemidelde_roll_3_2= round(df_vin_3_2['Pitch (graden)'].mean(),2)\n",
    "gemidelde_pitch_3_2= round(df_vin_3_2['Roll (graden)'].mean(),2)\n",
    "\n",
    "gemidelde_roll_3_3= round(df_vin_3_3['Pitch (graden)'].mean(),2)\n",
    "gemidelde_pitch_3_3= round(df_vin_3_3['Roll (graden)'].mean(),2)"
   ]
  },
  {
   "cell_type": "code",
   "execution_count": 20,
   "metadata": {},
   "outputs": [
    {
     "name": "stdout",
     "output_type": "stream",
     "text": [
      "Gemiddelde roll vin 1:  3.82\n",
      "Gemiddelde pitch vin 1:  0.99\n",
      "Gemiddelde roll vin 1_2:  3.84\n",
      "Gemiddelde pitch vin 1_2:  0.9\n",
      "\n",
      "Gemiddelde roll vin 2:  3.96\n",
      "Gemiddelde pitch vin 2:  0.02\n",
      "Gemiddelde roll vin 2_2:  3.92\n",
      "Gemiddelde pitch vin 2_2:  -0.78\n",
      "\n",
      "Gemiddelde roll vin 3:  4.14\n",
      "Gemiddelde pitch vin 3:  0.51\n",
      "Gemiddelde roll vin 3_2:  4.06\n",
      "Gemiddelde pitch vin 3_2:  0.16\n",
      "\n",
      "Gemiddelde vin 3 snelheid 300\n",
      "Gemiddelde roll vin 3_3:  4.67\n",
      "Gemiddelde pitch vin 3_3:  -0.35\n"
     ]
    }
   ],
   "source": [
    "print('Gemiddelde roll vin 1: ', gemidelde_roll_1)\n",
    "print('Gemiddelde pitch vin 1: ', gemidelde_pitch_1)\n",
    "print('Gemiddelde roll vin 1_2: ', gemidelde_roll_1_2)\n",
    "print('Gemiddelde pitch vin 1_2: ', gemidelde_pitch_1_2)\n",
    "print('')\n",
    "print('Gemiddelde roll vin 2: ', gemidelde_roll_2)\n",
    "print('Gemiddelde pitch vin 2: ', gemidelde_pitch_2)\n",
    "print('Gemiddelde roll vin 2_2: ', gemidelde_roll_2_2)\n",
    "print('Gemiddelde pitch vin 2_2: ', gemidelde_pitch_2_2)\n",
    "print('')\n",
    "print('Gemiddelde roll vin 3: ', gemidelde_roll_3)\n",
    "print('Gemiddelde pitch vin 3: ', gemidelde_pitch_3)\n",
    "print('Gemiddelde roll vin 3_2: ', gemidelde_roll_3_2)\n",
    "print('Gemiddelde pitch vin 3_2: ', gemidelde_pitch_3_2)\n",
    "print('')\n",
    "print('Gemiddelde vin 3 snelheid 300')\n",
    "print('Gemiddelde roll vin 3_3: ', gemidelde_roll_3_3)\n",
    "print('Gemiddelde pitch vin 3_3: ', gemidelde_pitch_3_3)"
   ]
  },
  {
   "cell_type": "markdown",
   "metadata": {},
   "source": [
    "# maak een grafiek in meerdere velden"
   ]
  },
  {
   "cell_type": "code",
   "execution_count": 22,
   "metadata": {},
   "outputs": [
    {
     "ename": "TypeError",
     "evalue": "'module' object is not callable",
     "output_type": "error",
     "traceback": [
      "\u001b[1;31m---------------------------------------------------------------------------\u001b[0m",
      "\u001b[1;31mTypeError\u001b[0m                                 Traceback (most recent call last)",
      "\u001b[1;32mc:\\Users\\raafb\\Desktop\\test data\\data_hoek plotly.ipynb Cell 9\u001b[0m line \u001b[0;36m3\n\u001b[0;32m     <a href='vscode-notebook-cell:/c%3A/Users/raafb/Desktop/test%20data/data_hoek%20plotly.ipynb#X11sZmlsZQ%3D%3D?line=26'>27</a>\u001b[0m fig\u001b[39m.\u001b[39madd_trace(\n\u001b[0;32m     <a href='vscode-notebook-cell:/c%3A/Users/raafb/Desktop/test%20data/data_hoek%20plotly.ipynb#X11sZmlsZQ%3D%3D?line=27'>28</a>\u001b[0m     go\u001b[39m.\u001b[39mScatter(x\u001b[39m=\u001b[39mdf_vin_3[\u001b[39m'\u001b[39m\u001b[39mTimestamp\u001b[39m\u001b[39m'\u001b[39m], y\u001b[39m=\u001b[39mdf_vin_3[\u001b[39m'\u001b[39m\u001b[39mPitch (graden)\u001b[39m\u001b[39m'\u001b[39m], name\u001b[39m=\u001b[39m\u001b[39m'\u001b[39m\u001b[39mRoll vin 3\u001b[39m\u001b[39m'\u001b[39m),\n\u001b[0;32m     <a href='vscode-notebook-cell:/c%3A/Users/raafb/Desktop/test%20data/data_hoek%20plotly.ipynb#X11sZmlsZQ%3D%3D?line=28'>29</a>\u001b[0m     row\u001b[39m=\u001b[39m\u001b[39m3\u001b[39m, col\u001b[39m=\u001b[39m\u001b[39m1\u001b[39m)\n\u001b[0;32m     <a href='vscode-notebook-cell:/c%3A/Users/raafb/Desktop/test%20data/data_hoek%20plotly.ipynb#X11sZmlsZQ%3D%3D?line=30'>31</a>\u001b[0m fig\u001b[39m.\u001b[39madd_trace(\n\u001b[0;32m     <a href='vscode-notebook-cell:/c%3A/Users/raafb/Desktop/test%20data/data_hoek%20plotly.ipynb#X11sZmlsZQ%3D%3D?line=31'>32</a>\u001b[0m     go\u001b[39m.\u001b[39mScatter(x\u001b[39m=\u001b[39mdf_vin_3_2[\u001b[39m'\u001b[39m\u001b[39mTimestamp\u001b[39m\u001b[39m'\u001b[39m], y\u001b[39m=\u001b[39mdf_vin_3_2[\u001b[39m'\u001b[39m\u001b[39mPitch (graden)\u001b[39m\u001b[39m'\u001b[39m], name\u001b[39m=\u001b[39m\u001b[39m'\u001b[39m\u001b[39mRoll vin 3 test 2\u001b[39m\u001b[39m'\u001b[39m),\n\u001b[0;32m     <a href='vscode-notebook-cell:/c%3A/Users/raafb/Desktop/test%20data/data_hoek%20plotly.ipynb#X11sZmlsZQ%3D%3D?line=32'>33</a>\u001b[0m     row\u001b[39m=\u001b[39m\u001b[39m3\u001b[39m, col\u001b[39m=\u001b[39m\u001b[39m2\u001b[39m)\n\u001b[0;32m     <a href='vscode-notebook-cell:/c%3A/Users/raafb/Desktop/test%20data/data_hoek%20plotly.ipynb#X11sZmlsZQ%3D%3D?line=36'>37</a>\u001b[0m fig\u001b[39m.\u001b[39madd_trace(\n\u001b[1;32m---> <a href='vscode-notebook-cell:/c%3A/Users/raafb/Desktop/test%20data/data_hoek%20plotly.ipynb#X11sZmlsZQ%3D%3D?line=37'>38</a>\u001b[0m     go\u001b[39m.\u001b[39;49mbar(x\u001b[39m=\u001b[39;49m[\u001b[39m'\u001b[39;49m\u001b[39mvin 1\u001b[39;49m\u001b[39m'\u001b[39;49m, \u001b[39m'\u001b[39;49m\u001b[39mvin 1 test 2\u001b[39;49m\u001b[39m'\u001b[39;49m, \u001b[39m'\u001b[39;49m\u001b[39mvin 2\u001b[39;49m\u001b[39m'\u001b[39;49m, \u001b[39m'\u001b[39;49m\u001b[39mvin 2 test 2\u001b[39;49m\u001b[39m'\u001b[39;49m, \u001b[39m'\u001b[39;49m\u001b[39mvin 3\u001b[39;49m\u001b[39m'\u001b[39;49m, \u001b[39m'\u001b[39;49m\u001b[39mvin 3 test 2\u001b[39;49m\u001b[39m'\u001b[39;49m], y\u001b[39m=\u001b[39;49m[gemidelde_roll_1, gemidelde_roll_1_2, gemidelde_roll_2, gemidelde_roll_2_2, gemidelde_roll_3, gemidelde_roll_3_2], \n\u001b[0;32m     <a href='vscode-notebook-cell:/c%3A/Users/raafb/Desktop/test%20data/data_hoek%20plotly.ipynb#X11sZmlsZQ%3D%3D?line=38'>39</a>\u001b[0m            name\u001b[39m=\u001b[39;49m\u001b[39m'\u001b[39;49m\u001b[39mGemidelde roll\u001b[39;49m\u001b[39m'\u001b[39;49m)\n\u001b[0;32m     <a href='vscode-notebook-cell:/c%3A/Users/raafb/Desktop/test%20data/data_hoek%20plotly.ipynb#X11sZmlsZQ%3D%3D?line=39'>40</a>\u001b[0m )\n\u001b[0;32m     <a href='vscode-notebook-cell:/c%3A/Users/raafb/Desktop/test%20data/data_hoek%20plotly.ipynb#X11sZmlsZQ%3D%3D?line=42'>43</a>\u001b[0m \u001b[39m# opmaak\u001b[39;00m\n\u001b[0;32m     <a href='vscode-notebook-cell:/c%3A/Users/raafb/Desktop/test%20data/data_hoek%20plotly.ipynb#X11sZmlsZQ%3D%3D?line=43'>44</a>\u001b[0m \u001b[39m# titel\u001b[39;00m\n\u001b[0;32m     <a href='vscode-notebook-cell:/c%3A/Users/raafb/Desktop/test%20data/data_hoek%20plotly.ipynb#X11sZmlsZQ%3D%3D?line=44'>45</a>\u001b[0m fig\u001b[39m.\u001b[39mupdate_layout(title_text\u001b[39m=\u001b[39m\u001b[39m\"\u001b[39m\u001b[39mhoek van boot bijn verschilende vleugel standen\u001b[39m\u001b[39m\"\u001b[39m, height\u001b[39m=\u001b[39m\u001b[39m800\u001b[39m, width\u001b[39m=\u001b[39m\u001b[39m1000\u001b[39m)\n",
      "\u001b[1;31mTypeError\u001b[0m: 'module' object is not callable"
     ]
    }
   ],
   "source": [
    "fig = make_subplots(\n",
    "    rows=4, cols=2,\n",
    "    specs=[[{}, {}],\n",
    "           [{}, {}],\n",
    "           [{}, {}],\n",
    "           [{\"colspan\": 2}, None]],)\n",
    "\n",
    "\n",
    "\n",
    "# data plots maken\n",
    "fig.add_trace(\n",
    "    go.Scatter(x=df_vin_1['Timestamp'], y=df_vin_1['Pitch (graden)'], name='Roll vin 1: '),\n",
    "    row=1, col=1)\n",
    "\n",
    "fig.add_trace(\n",
    "    go.Scatter(x=df_vin_1_2['Timestamp'], y=df_vin_1['Pitch (graden)'], name='Roll vin 1 test 2'),\n",
    "    row=1, col=2)\n",
    "\n",
    "fig.add_trace(\n",
    "    go.Scatter(x=df_vin_2['Timestamp'], y=df_vin_2['Pitch (graden)'], name='Roll vin 2'),\n",
    "    row=2, col=1)\n",
    "\n",
    "fig.add_trace(\n",
    "    go.Scatter(x=df_vin_2_2['Timestamp'], y=df_vin_2_2['Pitch (graden)'], name='Roll vin 2 test 2'),\n",
    "    row=2, col=2)\n",
    "\n",
    "fig.add_trace(\n",
    "    go.Scatter(x=df_vin_3['Timestamp'], y=df_vin_3['Pitch (graden)'], name='Roll vin 3'),\n",
    "    row=3, col=1)\n",
    "\n",
    "fig.add_trace(\n",
    "    go.Scatter(x=df_vin_3_2['Timestamp'], y=df_vin_3_2['Pitch (graden)'], name='Roll vin 3 test 2'),\n",
    "    row=3, col=2)\n",
    "\n",
    "\n",
    "# werkt nog niet\n",
    "fig.add_trace(\n",
    "    go.bar(x=['vin 1', 'vin 1 test 2', 'vin 2', 'vin 2 test 2', 'vin 3', 'vin 3 test 2'], y=[gemidelde_roll_1, gemidelde_roll_1_2, gemidelde_roll_2, gemidelde_roll_2_2, gemidelde_roll_3, gemidelde_roll_3_2], \n",
    "           name='Gemidelde roll')\n",
    ")\n",
    "\n",
    "\n",
    "# opmaak\n",
    "# titel\n",
    "fig.update_layout(title_text=\"hoek van boot bijn verschilende vleugel standen\", height=800, width=1000)\n",
    "\n",
    "\n",
    "# schaal verdeling op de x as verwijderen\n",
    "fig.update_xaxes(showticklabels=False)\n",
    "\n",
    "fig.add_hline(gemidelde_roll_1,row=1,col=1)\n",
    "fig.add_hline(gemidelde_roll_1_2,row=1,col=2)\n",
    "fig.add_hline(gemidelde_roll_2,row=2,col=1)\n",
    "fig.add_hline(gemidelde_roll_2_2,row=2,col=2)\n",
    "fig.add_hline(gemidelde_roll_3,row=3,col=1)\n",
    "fig.add_hline(gemidelde_roll_3_2,row=3,col=2)\n",
    "\n"
   ]
  }
 ],
 "metadata": {
  "kernelspec": {
   "display_name": "Python 3",
   "language": "python",
   "name": "python3"
  },
  "language_info": {
   "codemirror_mode": {
    "name": "ipython",
    "version": 3
   },
   "file_extension": ".py",
   "mimetype": "text/x-python",
   "name": "python",
   "nbconvert_exporter": "python",
   "pygments_lexer": "ipython3",
   "version": "3.10.11"
  },
  "orig_nbformat": 4
 },
 "nbformat": 4,
 "nbformat_minor": 2
}
