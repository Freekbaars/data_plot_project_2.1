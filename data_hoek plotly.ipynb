{
 "cells": [
  {
   "cell_type": "code",
   "execution_count": 17,
   "metadata": {},
   "outputs": [],
   "source": [
    "import pandas as pd\n",
    "import numpy as np\n",
    "import plotly as px\n",
    "import plotly.graph_objects as go\n",
    "import plotly.express as px\n",
    "from plotly.subplots import make_subplots\n",
    "\t"
   ]
  },
  {
   "cell_type": "markdown",
   "metadata": {},
   "source": [
    "# laad csv in"
   ]
  },
  {
   "cell_type": "code",
   "execution_count": 18,
   "metadata": {},
   "outputs": [],
   "source": [
    "csv_bestand_vin_1= 'sensor_data_test_vin_1_1.csv'\n",
    "csv_bestand_vin_2= 'sensor_data_test_vin_2_1.csv'\n",
    "csv_bestand_vin_3= 'sensor_data_test_vin_3_1.csv'\n",
    "\n",
    "csv_bestand_vin_1_2= 'sensor_data_test_vin_1_2.csv'\n",
    "csv_bestand_vin_2_2= 'sensor_data_test_vin_2_2.csv'\n",
    "csv_bestand_vin_3_2= 'sensor_data_test_vin_3_2.csv'\n",
    "\n",
    "csv_bestand_vin_3_3= 'sensor_data_test_vin_3_3_snelheid_300.csv'\n",
    "csv_bestand_vin_3_4= 'sensor_data_test_vin_3_4_snelheid_300.csv'"
   ]
  },
  {
   "cell_type": "code",
   "execution_count": 19,
   "metadata": {},
   "outputs": [],
   "source": [
    "#vin 1\n",
    "df_vin_1 = pd.read_csv(csv_bestand_vin_1)\n",
    "df_vin_1_2 = pd.read_csv(csv_bestand_vin_1_2)\n",
    "\n",
    "#vin 2\n",
    "df_vin_2 = pd.read_csv(csv_bestand_vin_2)\n",
    "df_vin_2_2 = pd.read_csv(csv_bestand_vin_2_2)\n",
    "\n",
    "#vin 3\n",
    "df_vin_3 = pd.read_csv(csv_bestand_vin_3)\n",
    "df_vin_3_2 = pd.read_csv(csv_bestand_vin_3_2)\n",
    "\n",
    "#vin 3 snelheid 300\n",
    "df_vin_3_3 = pd.read_csv(csv_bestand_vin_3_3)\n",
    "df_vin_3_4 = pd.read_csv(csv_bestand_vin_3_4)"
   ]
  },
  {
   "cell_type": "markdown",
   "metadata": {},
   "source": [
    "# bereken gemidelde hoeken"
   ]
  },
  {
   "cell_type": "code",
   "execution_count": 20,
   "metadata": {},
   "outputs": [],
   "source": [
    "gemidelde_roll_1= round(df_vin_1['Pitch (graden)'].mean(),2)\n",
    "gemidelde_pitch_1= round(df_vin_1['Roll (graden)'].mean(),2)\n",
    "gemidelde_roll_1_2= round(df_vin_1_2['Pitch (graden)'].mean(),2)\n",
    "gemidelde_pitch_1_2= round(df_vin_1_2['Roll (graden)'].mean(),2)\n",
    "\n",
    "\n",
    "gemidelde_roll_2= round(df_vin_2['Pitch (graden)'].mean(),2)\n",
    "gemidelde_pitch_2= round(df_vin_2['Roll (graden)'].mean(),2)\n",
    "gemidelde_roll_2_2= round(df_vin_2_2['Pitch (graden)'].mean(),2)\n",
    "gemidelde_pitch_2_2= round(df_vin_2_2['Roll (graden)'].mean(),2)\n",
    "\n",
    "\n",
    "\n",
    "gemidelde_roll_3= round(df_vin_3['Pitch (graden)'].mean(),2)\n",
    "gemidelde_pitch_3= round(df_vin_3['Roll (graden)'].mean(),2)\n",
    "gemidelde_roll_3_2= round(df_vin_3_2['Pitch (graden)'].mean(),2)\n",
    "gemidelde_pitch_3_2= round(df_vin_3_2['Roll (graden)'].mean(),2)\n",
    "\n",
    "gemidelde_roll_3_3= round(df_vin_3_3['Pitch (graden)'].mean(),2)\n",
    "gemidelde_pitch_3_3= round(df_vin_3_3['Roll (graden)'].mean(),2)"
   ]
  },
  {
   "cell_type": "code",
   "execution_count": 21,
   "metadata": {},
   "outputs": [
    {
     "name": "stdout",
     "output_type": "stream",
     "text": [
      "Gemiddelde roll vin 1:  3.82\n",
      "Gemiddelde pitch vin 1:  0.99\n",
      "Gemiddelde roll vin 1_2:  3.84\n",
      "Gemiddelde pitch vin 1_2:  0.9\n",
      "\n",
      "Gemiddelde roll vin 2:  3.96\n",
      "Gemiddelde pitch vin 2:  0.02\n",
      "Gemiddelde roll vin 2_2:  3.92\n",
      "Gemiddelde pitch vin 2_2:  -0.78\n",
      "\n",
      "Gemiddelde roll vin 3:  4.14\n",
      "Gemiddelde pitch vin 3:  0.51\n",
      "Gemiddelde roll vin 3_2:  4.06\n",
      "Gemiddelde pitch vin 3_2:  0.16\n",
      "\n",
      "Gemiddelde vin 3 snelheid 300\n",
      "Gemiddelde roll vin 3_3:  4.67\n",
      "Gemiddelde pitch vin 3_3:  -0.35\n"
     ]
    }
   ],
   "source": [
    "print('Gemiddelde roll vin 1: ', gemidelde_roll_1)\n",
    "print('Gemiddelde pitch vin 1: ', gemidelde_pitch_1)\n",
    "print('Gemiddelde roll vin 1_2: ', gemidelde_roll_1_2)\n",
    "print('Gemiddelde pitch vin 1_2: ', gemidelde_pitch_1_2)\n",
    "print('')\n",
    "print('Gemiddelde roll vin 2: ', gemidelde_roll_2)\n",
    "print('Gemiddelde pitch vin 2: ', gemidelde_pitch_2)\n",
    "print('Gemiddelde roll vin 2_2: ', gemidelde_roll_2_2)\n",
    "print('Gemiddelde pitch vin 2_2: ', gemidelde_pitch_2_2)\n",
    "print('')\n",
    "print('Gemiddelde roll vin 3: ', gemidelde_roll_3)\n",
    "print('Gemiddelde pitch vin 3: ', gemidelde_pitch_3)\n",
    "print('Gemiddelde roll vin 3_2: ', gemidelde_roll_3_2)\n",
    "print('Gemiddelde pitch vin 3_2: ', gemidelde_pitch_3_2)\n",
    "print('')\n",
    "print('Gemiddelde vin 3 snelheid 300')\n",
    "print('Gemiddelde roll vin 3_3: ', gemidelde_roll_3_3)\n",
    "print('Gemiddelde pitch vin 3_3: ', gemidelde_pitch_3_3)"
   ]
  },
  {
   "cell_type": "markdown",
   "metadata": {},
   "source": [
    "# maak een grafiek in meerdere velden"
   ]
  },
  {
   "cell_type": "code",
   "execution_count": 22,
   "metadata": {},
   "outputs": [
    {
     "ename": "KeyError",
     "evalue": "'roll (graden)'",
     "output_type": "error",
     "traceback": [
      "\u001b[1;31m---------------------------------------------------------------------------\u001b[0m",
      "\u001b[1;31mKeyError\u001b[0m                                  Traceback (most recent call last)",
      "File \u001b[1;32m~\\AppData\\Local\\Packages\\PythonSoftwareFoundation.Python.3.10_qbz5n2kfra8p0\\LocalCache\\local-packages\\Python310\\site-packages\\pandas\\core\\indexes\\base.py:3652\u001b[0m, in \u001b[0;36mIndex.get_loc\u001b[1;34m(self, key)\u001b[0m\n\u001b[0;32m   3651\u001b[0m \u001b[39mtry\u001b[39;00m:\n\u001b[1;32m-> 3652\u001b[0m     \u001b[39mreturn\u001b[39;00m \u001b[39mself\u001b[39;49m\u001b[39m.\u001b[39;49m_engine\u001b[39m.\u001b[39;49mget_loc(casted_key)\n\u001b[0;32m   3653\u001b[0m \u001b[39mexcept\u001b[39;00m \u001b[39mKeyError\u001b[39;00m \u001b[39mas\u001b[39;00m err:\n",
      "File \u001b[1;32m~\\AppData\\Local\\Packages\\PythonSoftwareFoundation.Python.3.10_qbz5n2kfra8p0\\LocalCache\\local-packages\\Python310\\site-packages\\pandas\\_libs\\index.pyx:147\u001b[0m, in \u001b[0;36mpandas._libs.index.IndexEngine.get_loc\u001b[1;34m()\u001b[0m\n",
      "File \u001b[1;32m~\\AppData\\Local\\Packages\\PythonSoftwareFoundation.Python.3.10_qbz5n2kfra8p0\\LocalCache\\local-packages\\Python310\\site-packages\\pandas\\_libs\\index.pyx:176\u001b[0m, in \u001b[0;36mpandas._libs.index.IndexEngine.get_loc\u001b[1;34m()\u001b[0m\n",
      "File \u001b[1;32mpandas\\_libs\\hashtable_class_helper.pxi:7080\u001b[0m, in \u001b[0;36mpandas._libs.hashtable.PyObjectHashTable.get_item\u001b[1;34m()\u001b[0m\n",
      "File \u001b[1;32mpandas\\_libs\\hashtable_class_helper.pxi:7088\u001b[0m, in \u001b[0;36mpandas._libs.hashtable.PyObjectHashTable.get_item\u001b[1;34m()\u001b[0m\n",
      "\u001b[1;31mKeyError\u001b[0m: 'roll (graden)'",
      "\nThe above exception was the direct cause of the following exception:\n",
      "\u001b[1;31mKeyError\u001b[0m                                  Traceback (most recent call last)",
      "\u001b[1;32mc:\\Users\\raafb\\Desktop\\test data\\data_hoek plotly.ipynb Cell 9\u001b[0m line \u001b[0;36m1\n\u001b[0;32m      <a href='vscode-notebook-cell:/c%3A/Users/raafb/Desktop/test%20data/data_hoek%20plotly.ipynb#X11sZmlsZQ%3D%3D?line=0'>1</a>\u001b[0m fig \u001b[39m=\u001b[39m make_subplots(\n\u001b[0;32m      <a href='vscode-notebook-cell:/c%3A/Users/raafb/Desktop/test%20data/data_hoek%20plotly.ipynb#X11sZmlsZQ%3D%3D?line=1'>2</a>\u001b[0m     rows\u001b[39m=\u001b[39m\u001b[39m4\u001b[39m, cols\u001b[39m=\u001b[39m\u001b[39m2\u001b[39m,\n\u001b[0;32m      <a href='vscode-notebook-cell:/c%3A/Users/raafb/Desktop/test%20data/data_hoek%20plotly.ipynb#X11sZmlsZQ%3D%3D?line=2'>3</a>\u001b[0m      specs\u001b[39m=\u001b[39m[[{}, {}],\n\u001b[1;32m   (...)\u001b[0m\n\u001b[0;32m      <a href='vscode-notebook-cell:/c%3A/Users/raafb/Desktop/test%20data/data_hoek%20plotly.ipynb#X11sZmlsZQ%3D%3D?line=5'>6</a>\u001b[0m             [{\u001b[39m\"\u001b[39m\u001b[39mcolspan\u001b[39m\u001b[39m\"\u001b[39m: \u001b[39m2\u001b[39m}, \u001b[39mNone\u001b[39;00m]],\n\u001b[0;32m      <a href='vscode-notebook-cell:/c%3A/Users/raafb/Desktop/test%20data/data_hoek%20plotly.ipynb#X11sZmlsZQ%3D%3D?line=6'>7</a>\u001b[0m       subplot_titles\u001b[39m=\u001b[39m(\u001b[39m\"\u001b[39m\u001b[39mvin 1\u001b[39m\u001b[39m\"\u001b[39m, \u001b[39m\"\u001b[39m\u001b[39mvin 1 test 2\u001b[39m\u001b[39m\"\u001b[39m, \u001b[39m\"\u001b[39m\u001b[39mvin 2\u001b[39m\u001b[39m\"\u001b[39m, \u001b[39m\"\u001b[39m\u001b[39mvin 2 test 2\u001b[39m\u001b[39m\"\u001b[39m, \u001b[39m\"\u001b[39m\u001b[39mvin 3\u001b[39m\u001b[39m\"\u001b[39m, \u001b[39m\"\u001b[39m\u001b[39mvin 3 test 2\u001b[39m\u001b[39m\"\u001b[39m))\n\u001b[0;32m     <a href='vscode-notebook-cell:/c%3A/Users/raafb/Desktop/test%20data/data_hoek%20plotly.ipynb#X11sZmlsZQ%3D%3D?line=9'>10</a>\u001b[0m \u001b[39m# data plots maken\u001b[39;00m\n\u001b[0;32m     <a href='vscode-notebook-cell:/c%3A/Users/raafb/Desktop/test%20data/data_hoek%20plotly.ipynb#X11sZmlsZQ%3D%3D?line=10'>11</a>\u001b[0m fig\u001b[39m.\u001b[39madd_trace(\n\u001b[1;32m---> <a href='vscode-notebook-cell:/c%3A/Users/raafb/Desktop/test%20data/data_hoek%20plotly.ipynb#X11sZmlsZQ%3D%3D?line=11'>12</a>\u001b[0m     go\u001b[39m.\u001b[39mScatter(x\u001b[39m=\u001b[39mdf_vin_1[\u001b[39m'\u001b[39m\u001b[39mTimestamp\u001b[39m\u001b[39m'\u001b[39m], y\u001b[39m=\u001b[39mdf_vin_1[\u001b[39m'\u001b[39;49m\u001b[39mroll (graden)\u001b[39;49m\u001b[39m'\u001b[39;49m], name\u001b[39m=\u001b[39m\u001b[39m'\u001b[39m\u001b[39mroll vin 1: \u001b[39m\u001b[39m'\u001b[39m),\n\u001b[0;32m     <a href='vscode-notebook-cell:/c%3A/Users/raafb/Desktop/test%20data/data_hoek%20plotly.ipynb#X11sZmlsZQ%3D%3D?line=12'>13</a>\u001b[0m     row\u001b[39m=\u001b[39m\u001b[39m1\u001b[39m, col\u001b[39m=\u001b[39m\u001b[39m1\u001b[39m)\n\u001b[0;32m     <a href='vscode-notebook-cell:/c%3A/Users/raafb/Desktop/test%20data/data_hoek%20plotly.ipynb#X11sZmlsZQ%3D%3D?line=14'>15</a>\u001b[0m fig\u001b[39m.\u001b[39madd_trace(\n\u001b[0;32m     <a href='vscode-notebook-cell:/c%3A/Users/raafb/Desktop/test%20data/data_hoek%20plotly.ipynb#X11sZmlsZQ%3D%3D?line=15'>16</a>\u001b[0m     go\u001b[39m.\u001b[39mScatter(x\u001b[39m=\u001b[39mdf_vin_1_2[\u001b[39m'\u001b[39m\u001b[39mTimestamp\u001b[39m\u001b[39m'\u001b[39m], y\u001b[39m=\u001b[39mdf_vin_1[\u001b[39m'\u001b[39m\u001b[39mPitch (graden)\u001b[39m\u001b[39m'\u001b[39m], name\u001b[39m=\u001b[39m\u001b[39m'\u001b[39m\u001b[39mPitch vin 1 test 2\u001b[39m\u001b[39m'\u001b[39m),\n\u001b[0;32m     <a href='vscode-notebook-cell:/c%3A/Users/raafb/Desktop/test%20data/data_hoek%20plotly.ipynb#X11sZmlsZQ%3D%3D?line=16'>17</a>\u001b[0m     row\u001b[39m=\u001b[39m\u001b[39m1\u001b[39m, col\u001b[39m=\u001b[39m\u001b[39m2\u001b[39m)\n\u001b[0;32m     <a href='vscode-notebook-cell:/c%3A/Users/raafb/Desktop/test%20data/data_hoek%20plotly.ipynb#X11sZmlsZQ%3D%3D?line=18'>19</a>\u001b[0m fig\u001b[39m.\u001b[39madd_trace(\n\u001b[0;32m     <a href='vscode-notebook-cell:/c%3A/Users/raafb/Desktop/test%20data/data_hoek%20plotly.ipynb#X11sZmlsZQ%3D%3D?line=19'>20</a>\u001b[0m     go\u001b[39m.\u001b[39mScatter(x\u001b[39m=\u001b[39mdf_vin_2[\u001b[39m'\u001b[39m\u001b[39mTimestamp\u001b[39m\u001b[39m'\u001b[39m], y\u001b[39m=\u001b[39mdf_vin_2[\u001b[39m'\u001b[39m\u001b[39mPitch (graden)\u001b[39m\u001b[39m'\u001b[39m], name\u001b[39m=\u001b[39m\u001b[39m'\u001b[39m\u001b[39mPitch vin 2\u001b[39m\u001b[39m'\u001b[39m),\n\u001b[0;32m     <a href='vscode-notebook-cell:/c%3A/Users/raafb/Desktop/test%20data/data_hoek%20plotly.ipynb#X11sZmlsZQ%3D%3D?line=20'>21</a>\u001b[0m     row\u001b[39m=\u001b[39m\u001b[39m2\u001b[39m, col\u001b[39m=\u001b[39m\u001b[39m1\u001b[39m)\n",
      "File \u001b[1;32m~\\AppData\\Local\\Packages\\PythonSoftwareFoundation.Python.3.10_qbz5n2kfra8p0\\LocalCache\\local-packages\\Python310\\site-packages\\pandas\\core\\frame.py:3761\u001b[0m, in \u001b[0;36mDataFrame.__getitem__\u001b[1;34m(self, key)\u001b[0m\n\u001b[0;32m   3759\u001b[0m \u001b[39mif\u001b[39;00m \u001b[39mself\u001b[39m\u001b[39m.\u001b[39mcolumns\u001b[39m.\u001b[39mnlevels \u001b[39m>\u001b[39m \u001b[39m1\u001b[39m:\n\u001b[0;32m   3760\u001b[0m     \u001b[39mreturn\u001b[39;00m \u001b[39mself\u001b[39m\u001b[39m.\u001b[39m_getitem_multilevel(key)\n\u001b[1;32m-> 3761\u001b[0m indexer \u001b[39m=\u001b[39m \u001b[39mself\u001b[39;49m\u001b[39m.\u001b[39;49mcolumns\u001b[39m.\u001b[39;49mget_loc(key)\n\u001b[0;32m   3762\u001b[0m \u001b[39mif\u001b[39;00m is_integer(indexer):\n\u001b[0;32m   3763\u001b[0m     indexer \u001b[39m=\u001b[39m [indexer]\n",
      "File \u001b[1;32m~\\AppData\\Local\\Packages\\PythonSoftwareFoundation.Python.3.10_qbz5n2kfra8p0\\LocalCache\\local-packages\\Python310\\site-packages\\pandas\\core\\indexes\\base.py:3654\u001b[0m, in \u001b[0;36mIndex.get_loc\u001b[1;34m(self, key)\u001b[0m\n\u001b[0;32m   3652\u001b[0m     \u001b[39mreturn\u001b[39;00m \u001b[39mself\u001b[39m\u001b[39m.\u001b[39m_engine\u001b[39m.\u001b[39mget_loc(casted_key)\n\u001b[0;32m   3653\u001b[0m \u001b[39mexcept\u001b[39;00m \u001b[39mKeyError\u001b[39;00m \u001b[39mas\u001b[39;00m err:\n\u001b[1;32m-> 3654\u001b[0m     \u001b[39mraise\u001b[39;00m \u001b[39mKeyError\u001b[39;00m(key) \u001b[39mfrom\u001b[39;00m \u001b[39merr\u001b[39;00m\n\u001b[0;32m   3655\u001b[0m \u001b[39mexcept\u001b[39;00m \u001b[39mTypeError\u001b[39;00m:\n\u001b[0;32m   3656\u001b[0m     \u001b[39m# If we have a listlike key, _check_indexing_error will raise\u001b[39;00m\n\u001b[0;32m   3657\u001b[0m     \u001b[39m#  InvalidIndexError. Otherwise we fall through and re-raise\u001b[39;00m\n\u001b[0;32m   3658\u001b[0m     \u001b[39m#  the TypeError.\u001b[39;00m\n\u001b[0;32m   3659\u001b[0m     \u001b[39mself\u001b[39m\u001b[39m.\u001b[39m_check_indexing_error(key)\n",
      "\u001b[1;31mKeyError\u001b[0m: 'roll (graden)'"
     ]
    }
   ],
   "source": [
    "fig = make_subplots(\n",
    "    rows=4, cols=2,\n",
    "     specs=[[{}, {}],\n",
    "            [{}, {}],\n",
    "            [{}, {}],\n",
    "            [{\"colspan\": 2}, None]],\n",
    "      subplot_titles=(\"vin 1\", \"vin 1 test 2\", \"vin 2\", \"vin 2 test 2\", \"vin 3\", \"vin 3 test 2\"))\n",
    "\n",
    "\n",
    "# data plots maken\n",
    "fig.add_trace(\n",
    "    go.Scatter(x=df_vin_1['Timestamp'], y=df_vin_1['roll (graden)'], name='roll vin 1: '),\n",
    "    row=1, col=1)\n",
    "\n",
    "fig.add_trace(\n",
    "    go.Scatter(x=df_vin_1_2['Timestamp'], y=df_vin_1['Pitch (graden)'], name='Pitch vin 1 test 2'),\n",
    "    row=1, col=2)\n",
    "\n",
    "fig.add_trace(\n",
    "    go.Scatter(x=df_vin_2['Timestamp'], y=df_vin_2['Pitch (graden)'], name='Pitch vin 2'),\n",
    "    row=2, col=1)\n",
    "\n",
    "fig.add_trace(\n",
    "    go.Scatter(x=df_vin_2_2['Timestamp'], y=df_vin_2_2['Pitch (graden)'], name='Pitch vin 2 test 2'),\n",
    "    row=2, col=2)\n",
    "\n",
    "fig.add_trace(\n",
    "    go.Scatter(x=df_vin_3['Timestamp'], y=df_vin_3['Pitch (graden)'], name='Pitch vin 3'),\n",
    "    row=3, col=1)\n",
    "\n",
    "fig.add_trace(\n",
    "    go.Scatter(x=df_vin_3_2['Timestamp'], y=df_vin_3_2['Pitch (graden)'], name='Pitch vin 3 test 2'),\n",
    "    row=3, col=2)\n",
    "\n",
    "\n",
    "# opmaak\n",
    "# titel\n",
    "fig.update_layout(title_text=\"hoek van boot bijn verschilende vleugel standen\", height=800, width=1000)\n",
    "\n",
    "\n",
    "# schaal verdeling op de x as verwijderen\n",
    "fig.update_xaxes(showticklabels=False)\n",
    "\n",
    "# y-as title\n",
    "fig.update_yaxes(title_text=\"vin 1\", row=1, col=1)\n",
    "fig.update_yaxes(title_text=\"vin 2\", row=2, col=1)\n",
    "fig.update_yaxes(title_text=\"vin 3\", row=3, col=1)\n",
    "\n",
    "\n",
    "\n",
    "\n",
    "\n",
    "fig.add_hline(gemidelde_roll_1,row=1,col=1)\n",
    "fig.add_hline(gemidelde_roll_1_2,row=1,col=2)\n",
    "fig.add_hline(gemidelde_roll_2,row=2,col=1)\n",
    "fig.add_hline(gemidelde_roll_2_2,row=2,col=2)\n",
    "fig.add_hline(gemidelde_roll_3,row=3,col=1)\n",
    "fig.add_hline(gemidelde_roll_3_2,row=3,col=2)\n"
   ]
  }
 ],
 "metadata": {
  "kernelspec": {
   "display_name": "Python 3",
   "language": "python",
   "name": "python3"
  },
  "language_info": {
   "codemirror_mode": {
    "name": "ipython",
    "version": 3
   },
   "file_extension": ".py",
   "mimetype": "text/x-python",
   "name": "python",
   "nbconvert_exporter": "python",
   "pygments_lexer": "ipython3",
   "version": "3.10.11"
  },
  "orig_nbformat": 4
 },
 "nbformat": 4,
 "nbformat_minor": 2
}
